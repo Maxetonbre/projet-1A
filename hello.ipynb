{
 "cells": [
  {
   "cell_type": "markdown",
   "metadata": {},
   "source": [
    "# Simple Hello World"
   ]
  },
  {
   "cell_type": "code",
   "execution_count": 4,
   "metadata": {},
   "outputs": [
    {
     "data": {
      "text/plain": [
       "Hello World !"
      ]
     },
     "execution_count": 4,
     "metadata": {},
     "output_type": "execute_result"
    }
   ],
   "source": [
    "String message = \"Hello\";\n",
    "\n",
    "message + \" World !\""
   ]
  },
  {
   "cell_type": "markdown",
   "metadata": {},
   "source": [
    "# Atelier de Programmation"
   ]
  },
  {
   "cell_type": "markdown",
   "metadata": {},
   "source": [
    "## Affichage d'un tableau"
   ]
  },
  {
   "cell_type": "code",
   "execution_count": 16,
   "metadata": {},
   "outputs": [
    {
     "name": "stdout",
     "output_type": "stream",
     "text": [
      "+------------+------+-----+-------+\n",
      "| Produit    | PU   | Qté | Prix  |\n",
      "+------------+------+-----+-------+\n",
      "| Stylos     | 1.20 |  5  |  6.00 |\n"
     ]
    },
    {
     "name": "stdout",
     "output_type": "stream",
     "text": [
      "| Cahiers    | 3.50 |  2  |  7.00 |\n",
      "+------------+------+-----+-------+\n",
      "| TOTAL      |      |     | 13.00 |\n",
      "+------------+------+-----+-------+\n"
     ]
    }
   ],
   "source": [
    "System.out.println(\"+------------+------+-----+-------+\");\n",
    "System.out.println(\"| Produit    | PU   | Qté | Prix  |\");\n",
    "System.out.println(\"+------------+------+-----+-------+\");\n",
    "System.out.println(\"| Stylos     | 1.20 |  5  |  6.00 |\");\n",
    "System.out.println(\"| Cahiers    | 3.50 |  2  |  7.00 |\");\n",
    "System.out.println(\"+------------+------+-----+-------+\");\n",
    "System.out.println(\"| TOTAL      |      |     | 13.00 |\");\n",
    "System.out.println(\"+------------+------+-----+-------+\");"
   ]
  },
  {
   "cell_type": "markdown",
   "metadata": {},
   "source": [
    "## Affichage de variables"
   ]
  },
  {
   "cell_type": "code",
   "execution_count": 17,
   "metadata": {},
   "outputs": [],
   "source": [
    "// Déclaration des variables\n",
    "String nomProduit1 = \"Stylos\";\n",
    "double prixUnitaire1 = 1.20;\n",
    "int quantite1 = 5;\n",
    "double prixTotal1 = prixUnitaire1 * quantite1;\n",
    "\n",
    "String nomProduit2 = \"Cahiers\";\n",
    "double prixUnitaire2 = 3.50;\n",
    "int quantite2 = 2;\n",
    "double prixTotal2 = prixUnitaire2 * quantite2;\n",
    "\n",
    "double total = prixTotal1 + prixTotal2;\n"
   ]
  },
  {
   "cell_type": "code",
   "execution_count": 18,
   "metadata": {},
   "outputs": [
    {
     "name": "stdout",
     "output_type": "stream",
     "text": [
      "+----------------+-----+-----+------+\n",
      "| Produit       | PU  | Qté | Prix |\n",
      "+----------------+-----+-----+------+\n"
     ]
    },
    {
     "name": "stdout",
     "output_type": "stream",
     "text": [
      "| Stylos       | 1.20 |   5 | 6.00 |\n",
      "| Cahiers      | 3.50 |   2 | 7.00 |\n",
      "+----------------+-----+-----+------+\n",
      "| TOTAL         |     |     | 13.00 |\n",
      "+----------------+-----+-----+------+\n"
     ]
    }
   ],
   "source": [
    "// Affichage du tableau avec les variables\n",
    "System.out.println(\"+----------------+-----+-----+------+\" );\n",
    "System.out.println(\"| Produit       | PU  | Qté | Prix |\" );\n",
    "System.out.println(\"+----------------+-----+-----+------+\" );\n",
    "System.out.printf(\"| %-12s | %.2f | %3d | %.2f |\\n\", nomProduit1, prixUnitaire1, quantite1, prixTotal1);\n",
    "System.out.printf(\"| %-12s | %.2f | %3d | %.2f |\\n\", nomProduit2, prixUnitaire2, quantite2, prixTotal2);\n",
    "System.out.println(\"+----------------+-----+-----+------+\" );\n",
    "System.out.printf(\"| TOTAL         |     |     | %.2f |\\n\", total);\n",
    "System.out.println(\"+----------------+-----+-----+------+\" );\n"
   ]
  },
  {
   "cell_type": "markdown",
   "metadata": {},
   "source": [
    "## Saisie des informations"
   ]
  },
  {
   "cell_type": "code",
   "execution_count": 21,
   "metadata": {},
   "outputs": [
    {
     "name": "stdout",
     "output_type": "stream",
     "text": [
      "Entrez la quantité de stylos : "
     ]
    },
    {
     "name": "stdout",
     "output_type": "stream",
     "text": [
      "Entrez la quantité de cahiers : +----------------+-----+-----+------+\n",
      "| Produit       | PU  | Qté | Prix |\n",
      "+----------------+-----+-----+------+\n",
      "| Stylos       | 1.20 |   3 | 3.60 |\n",
      "| Cahiers      | 3.50 |   7 | 24.50 |\n",
      "+----------------+-----+-----+------+\n",
      "| TOTAL         |     |     | 28.10 |\n",
      "+----------------+-----+-----+------+\n"
     ]
    }
   ],
   "source": [
    "import java.util.Scanner; // Import de Scanner pour la saisie\n",
    "\n",
    "// Création d'un scanner pour lire l'entrée utilisateur\n",
    "Scanner scanner = new Scanner(System.in);\n",
    "\n",
    "// Demande à l'utilisateur la quantité pour chaque produit\n",
    "System.out.print(\"Entrez la quantité de stylos : \");\n",
    "int quantite1 = scanner.nextInt();\n",
    "\n",
    "System.out.print(\"Entrez la quantité de cahiers : \");\n",
    "int quantite2 = scanner.nextInt();\n",
    "\n",
    "// Calcul des prix mis à jour\n",
    "double prixTotal1 = prixUnitaire1 * quantite1;\n",
    "double prixTotal2 = prixUnitaire2 * quantite2;\n",
    "double total = prixTotal1 + prixTotal2;\n",
    "\n",
    "// Affichage du tableau mis à jour\n",
    "System.out.println(\"+----------------+-----+-----+------+\" );\n",
    "System.out.println(\"| Produit       | PU  | Qté | Prix |\" );\n",
    "System.out.println(\"+----------------+-----+-----+------+\" );\n",
    "System.out.printf(\"| %-12s | %.2f | %3d | %.2f |\\n\", nomProduit1, prixUnitaire1, quantite1, prixTotal1);\n",
    "System.out.printf(\"| %-12s | %.2f | %3d | %.2f |\\n\", nomProduit2, prixUnitaire2, quantite2, prixTotal2);\n",
    "System.out.println(\"+----------------+-----+-----+------+\" );\n",
    "System.out.printf(\"| TOTAL         |     |     | %.2f |\\n\", total);\n",
    "System.out.println(\"+----------------+-----+-----+------+\" );\n",
    "\n",
    "// Fermer le scanner\n",
    "scanner.close();\n"
   ]
  }
 ],
 "metadata": {
  "kernelspec": {
   "display_name": "Java (rjk 2.2.0)",
   "language": "java",
   "name": "rapaio-jupyter-kernel"
  },
  "language_info": {
   "codemirror_mode": "java",
   "file_extension": ".jshell",
   "mimetype": "text/x-java-source",
   "name": "java",
   "nbconvert_exporter": "script",
   "pygments_lexer": "java",
   "version": "21.0.5+11-LTS"
  }
 },
 "nbformat": 4,
 "nbformat_minor": 2
}
